{
  "nbformat": 4,
  "nbformat_minor": 0,
  "metadata": {
    "colab": {
      "provenance": []
    },
    "kernelspec": {
      "name": "python3",
      "display_name": "Python 3"
    }
  },
  "cells": [
    {
      "cell_type": "markdown",
      "metadata": {
        "id": "nsEOLErx6WCf"
      },
      "source": [
        "# **Programacion funcional**\n",
        "\n",
        "Vamos a aprender a usar las **funciones lambda, map, filter y reduce**.\n",
        "\n",
        "Veremos los siguientes métodos:\n",
        "\n",
        "    1) Funciones lambda.\n",
        "    2) Metodos de la programacion funcional:      \n",
        "      - map\n",
        "      - filter\n",
        "      - reduce*\n",
        "\n",
        "### **Programacion funcional**\n",
        "\n",
        "Los programas escritos en un **lenguaje funcional** están constituidos unicamente por definiciones de **funciones**, entendiendo estas no como subprogramas clasicos de un lenguaje imperativo, sino como funciones puramente matematicas.\n",
        "\n",
        "<center>\n",
        "<img src=\"https://user-images.githubusercontent.com/16768318/73006022-d523bd00-3e01-11ea-8c1a-8ce4f5529158.png\" width=\"35%\">\n",
        "</center>\n",
        "\n",
        "### **Funciones lambda**\n",
        "\n",
        "Sirve para crear funciones anonimas. Ejemplo:\n"
      ]
    },
    {
      "cell_type": "code",
      "metadata": {
        "id": "TOTBARnt6Lhi"
      },
      "source": [
        "def doble(x):\n",
        "  return x**2"
      ],
      "execution_count": 1,
      "outputs": []
    },
    {
      "cell_type": "code",
      "metadata": {
        "id": "gqz5TzS8_weU",
        "colab": {
          "base_uri": "https://localhost:8080/"
        },
        "outputId": "b10bdb1d-45c9-407f-e756-1ee23392906b"
      },
      "source": [
        "doble(25)"
      ],
      "execution_count": 2,
      "outputs": [
        {
          "output_type": "execute_result",
          "data": {
            "text/plain": [
              "625"
            ]
          },
          "metadata": {},
          "execution_count": 2
        }
      ]
    },
    {
      "cell_type": "code",
      "metadata": {
        "id": "QcVfQr-e_zBO"
      },
      "source": [
        "dobleAnonima = lambda x: x**2"
      ],
      "execution_count": 3,
      "outputs": []
    },
    {
      "cell_type": "code",
      "metadata": {
        "id": "RcsrFRGG_7eN",
        "outputId": "a392f0f3-3b46-479a-808a-5dddd94ac2ac",
        "colab": {
          "base_uri": "https://localhost:8080/"
        }
      },
      "source": [
        "dobleAnonima(25)"
      ],
      "execution_count": 4,
      "outputs": [
        {
          "output_type": "execute_result",
          "data": {
            "text/plain": [
              "625"
            ]
          },
          "metadata": {},
          "execution_count": 4
        }
      ]
    },
    {
      "cell_type": "code",
      "source": [
        "(lambda x: x**2)(25)"
      ],
      "metadata": {
        "id": "Bvto8RY4sYme",
        "colab": {
          "base_uri": "https://localhost:8080/"
        },
        "outputId": "75dc819a-f571-4ff9-8561-99a6cb281767"
      },
      "execution_count": 5,
      "outputs": [
        {
          "output_type": "execute_result",
          "data": {
            "text/plain": [
              "625"
            ]
          },
          "metadata": {},
          "execution_count": 5
        }
      ]
    },
    {
      "cell_type": "markdown",
      "source": [
        "### Ejercicio: \n",
        "Escribe una función anónima que de la vuelta a un String, guardala en una variable que se llame reverse_f.\n",
        "\n",
        "\n",
        "> Por ejemplo: Dado el string \"Hola\" debe devolver \"aloH\"\n",
        "\n"
      ],
      "metadata": {
        "id": "LNMouIAOsy9q"
      }
    },
    {
      "cell_type": "code",
      "metadata": {
        "id": "kHuKKQ7e_-rT",
        "colab": {
          "base_uri": "https://localhost:8080/",
          "height": 130
        },
        "outputId": "e5d890c7-0980-4753-f6be-37e40afa7fcf"
      },
      "source": [
        "#Inserta Aquí tu código\n",
        "\n",
        "reverse_f = lambda ['Hola'] : reverse('Hola')"
      ],
      "execution_count": 6,
      "outputs": [
        {
          "output_type": "error",
          "ename": "SyntaxError",
          "evalue": "ignored",
          "traceback": [
            "\u001b[0;36m  File \u001b[0;32m\"<ipython-input-6-7a75af48bcac>\"\u001b[0;36m, line \u001b[0;32m3\u001b[0m\n\u001b[0;31m    reverse_f = lambda ['Hola'] : reverse('Hola')\u001b[0m\n\u001b[0m                       ^\u001b[0m\n\u001b[0;31mSyntaxError\u001b[0m\u001b[0;31m:\u001b[0m invalid syntax\n"
          ]
        }
      ]
    },
    {
      "cell_type": "code",
      "metadata": {
        "id": "Xpb-b3xQLCOt"
      },
      "source": [
        "reverse_f('hola')"
      ],
      "execution_count": null,
      "outputs": []
    },
    {
      "cell_type": "markdown",
      "metadata": {
        "id": "mZcdf3C-LGpm"
      },
      "source": [
        "### **Map**\n",
        "\n",
        "Aplica una condicion (definida por una funcion) sobretodos los elementos de una estructura de datos.\n",
        "<img src=\"https://leblancfg.com/img/map_function.png\" width=\"50%\">\n",
        "\n"
      ]
    },
    {
      "cell_type": "markdown",
      "metadata": {
        "id": "1bl4nKrkORx-"
      },
      "source": [
        "#### **Ejemplo 1**\n",
        "\n",
        "Convertir los valores de temperatura media de Celsius a Kelvin"
      ]
    },
    {
      "cell_type": "code",
      "metadata": {
        "id": "MJz1s2l_OC00"
      },
      "source": [
        "temp_C = [28, 32, 15, 26, 24, 30]"
      ],
      "execution_count": 8,
      "outputs": []
    },
    {
      "cell_type": "code",
      "metadata": {
        "id": "CcJQUBdORJZF",
        "outputId": "a39afe5c-edd0-491c-a10d-fadba852f352",
        "colab": {
          "base_uri": "https://localhost:8080/"
        }
      },
      "source": [
        "# Programación imperativa\n",
        "temp_K = []\n",
        "for temp in temp_C:\n",
        "  new_temp = temp + 273.15\n",
        "  temp_K.append(new_temp) \n",
        "print(temp_K)   "
      ],
      "execution_count": 9,
      "outputs": [
        {
          "output_type": "stream",
          "name": "stdout",
          "text": [
            "[301.15, 305.15, 288.15, 299.15, 297.15, 303.15]\n"
          ]
        }
      ]
    },
    {
      "cell_type": "code",
      "source": [
        "# Programación funcional\n",
        "def celsiusAKelvin(temperatura):\n",
        "  return temperatura + 273.15\n",
        "\n",
        "temp_K = list(map(celsiusAKelvin, temp_C))\n",
        "print(temp_K)"
      ],
      "metadata": {
        "id": "Sia0b4lmvqQG",
        "colab": {
          "base_uri": "https://localhost:8080/"
        },
        "outputId": "029c2d93-b351-4401-89b2-4599fb59f6db"
      },
      "execution_count": 10,
      "outputs": [
        {
          "output_type": "stream",
          "name": "stdout",
          "text": [
            "[301.15, 305.15, 288.15, 299.15, 297.15, 303.15]\n"
          ]
        }
      ]
    },
    {
      "cell_type": "code",
      "source": [
        "# Programación funcional avanzada usando funciones anónimas\n",
        "temp_K = list(map(lambda x : x+273.15, temp_C))\n",
        "print(temp_K)"
      ],
      "metadata": {
        "id": "DEvfO1AVvzvJ",
        "colab": {
          "base_uri": "https://localhost:8080/"
        },
        "outputId": "7429de9d-cee2-471a-94f8-58096b636a91"
      },
      "execution_count": 11,
      "outputs": [
        {
          "output_type": "stream",
          "name": "stdout",
          "text": [
            "[301.15, 305.15, 288.15, 299.15, 297.15, 303.15]\n"
          ]
        }
      ]
    },
    {
      "cell_type": "markdown",
      "metadata": {
        "id": "xRrjjwTrO4vc"
      },
      "source": [
        "#### **Ejercicio 2**\n",
        "Convertir estos nombres a mayúsculas"
      ]
    },
    {
      "cell_type": "code",
      "metadata": {
        "id": "cgIL58gOQo2M"
      },
      "source": [
        "mascotas_nombre_min = ['alfred', 'tabitha', 'william', 'arla']"
      ],
      "execution_count": 12,
      "outputs": []
    },
    {
      "cell_type": "markdown",
      "source": [
        "Primero resuelve tu problema usando un bucle `for`\n",
        "\n",
        "\n",
        "*   INPUT/ENTRADA: Tienes que convertir en mayúscula todos los elementos de la lista `mascotas_nombre_min`\n",
        "*   OUTPUT/SALIDA: Los nombres en mayúsculas deberán estar en la lista `mascotas_nombre_may`\n",
        "* PISTA: Puedes añadir elemenetos a una lista con `append()` \n",
        "\n"
      ],
      "metadata": {
        "id": "PNhA9FrTuR26"
      }
    },
    {
      "cell_type": "code",
      "metadata": {
        "id": "mAVbl7f2N_Si",
        "outputId": "ed5d7704-3cd0-435c-9812-dd73c5746df2",
        "colab": {
          "base_uri": "https://localhost:8080/",
          "height": 235
        }
      },
      "source": [
        "# Programación imperativa\n",
        "#Inserta Aquí tu código\n",
        "\n",
        "#NO se puede hacer la función directamente sobre lista\n",
        "    #Usa for in para crear una nueva, en la que se aplica .upper\n",
        "    #Añadir esa lista a mascotas_nombre_may utilizando append\n",
        "\n",
        "mascotas_nombre_may = mascotas_nombre_min.upper()\n",
        "\n",
        "\n",
        "\n",
        "\n",
        "print(mascotas_nombre_may)"
      ],
      "execution_count": 13,
      "outputs": [
        {
          "output_type": "error",
          "ename": "AttributeError",
          "evalue": "ignored",
          "traceback": [
            "\u001b[0;31m---------------------------------------------------------------------------\u001b[0m",
            "\u001b[0;31mAttributeError\u001b[0m                            Traceback (most recent call last)",
            "\u001b[0;32m<ipython-input-13-66c598e8c3f2>\u001b[0m in \u001b[0;36m<cell line: 8>\u001b[0;34m()\u001b[0m\n\u001b[1;32m      6\u001b[0m     \u001b[0;31m#Añadir esa lista a mascotas_nombre_may utilizando append\u001b[0m\u001b[0;34m\u001b[0m\u001b[0;34m\u001b[0m\u001b[0m\n\u001b[1;32m      7\u001b[0m \u001b[0;34m\u001b[0m\u001b[0m\n\u001b[0;32m----> 8\u001b[0;31m \u001b[0mmascotas_nombre_may\u001b[0m \u001b[0;34m=\u001b[0m \u001b[0mmascotas_nombre_min\u001b[0m\u001b[0;34m.\u001b[0m\u001b[0mupper\u001b[0m\u001b[0;34m(\u001b[0m\u001b[0;34m)\u001b[0m\u001b[0;34m\u001b[0m\u001b[0;34m\u001b[0m\u001b[0m\n\u001b[0m\u001b[1;32m      9\u001b[0m \u001b[0;34m\u001b[0m\u001b[0m\n\u001b[1;32m     10\u001b[0m \u001b[0;34m\u001b[0m\u001b[0m\n",
            "\u001b[0;31mAttributeError\u001b[0m: 'list' object has no attribute 'upper'"
          ]
        }
      ]
    },
    {
      "cell_type": "markdown",
      "source": [
        "Ahora haz lo mismo pero sin un bucle for, ahora usando map()"
      ],
      "metadata": {
        "id": "dLiYY70roeA4"
      }
    },
    {
      "cell_type": "code",
      "metadata": {
        "id": "DYdUckemOWuW"
      },
      "source": [
        "# Programación funcional\n",
        "#Inserta Aquí tu código\n",
        "mascotas_nombre_may = \n",
        "print(mascotas_nombre_may)"
      ],
      "execution_count": null,
      "outputs": []
    },
    {
      "cell_type": "markdown",
      "metadata": {
        "id": "bn9eybKUUd1l"
      },
      "source": [
        "### **Filter**\n",
        "\n",
        "Mientras que **map()** pasa cada elemento del iterable a traves de una funcion y devuelve el resultado de todos los elementos que han pasado a traves de la funcion, **filter()**, en primer lugar, requiere que **la funcion devuelva valores booleanos (verdadero o falso)** y luego pasa cada elemento del iterable a traves de la funcion, **\"filtrando\" los que son falsos**. \n",
        "\n",
        "<img src=\"https://leblancfg.com/img/filter.png\" width=\"50%\">"
      ]
    },
    {
      "cell_type": "code",
      "metadata": {
        "id": "dDCGYR6yVnYK"
      },
      "source": [
        "# Filter\n",
        "numeros = [28, 32, 15, 26, 24, 30]"
      ],
      "execution_count": 14,
      "outputs": []
    },
    {
      "cell_type": "code",
      "source": [
        "# Programación imperativa\n",
        "num_may_30 = []\n",
        "for num in numeros:\n",
        "  if num >= 30:\n",
        "    num_may_30.append(num) \n",
        "    \n",
        "print(num_may_30)   "
      ],
      "metadata": {
        "id": "leajA5w3wfyK",
        "colab": {
          "base_uri": "https://localhost:8080/"
        },
        "outputId": "6fc9633f-1de8-450b-8f7c-ede522fbd7a7"
      },
      "execution_count": 15,
      "outputs": [
        {
          "output_type": "stream",
          "name": "stdout",
          "text": [
            "[32, 30]\n"
          ]
        }
      ]
    },
    {
      "cell_type": "code",
      "source": [
        "# Programación funcional\n",
        "def numMayoresA30(numero):\n",
        "  if numero >= 30:\n",
        "    return True\n",
        "  else:\n",
        "    return False\n",
        "\n",
        "\n",
        "num_may_30 = list(filter(numMayoresA30, numeros))\n",
        "print(num_may_30)"
      ],
      "metadata": {
        "id": "qyBefSJDwtKc",
        "colab": {
          "base_uri": "https://localhost:8080/"
        },
        "outputId": "3b40969d-beb3-4a50-8e79-349731995d42"
      },
      "execution_count": 16,
      "outputs": [
        {
          "output_type": "stream",
          "name": "stdout",
          "text": [
            "[32, 30]\n"
          ]
        }
      ]
    },
    {
      "cell_type": "code",
      "metadata": {
        "id": "78a6jsnOZ13Y",
        "outputId": "41fef485-662b-4e38-8093-a4cad5d747ef",
        "colab": {
          "base_uri": "https://localhost:8080/"
        }
      },
      "source": [
        "# Programación funcional avanzada usando funciones anónimas\n",
        "num_may_30 = list(filter(lambda temp:temp >= 30, numeros))\n",
        "print(num_may_30)"
      ],
      "execution_count": 17,
      "outputs": [
        {
          "output_type": "stream",
          "name": "stdout",
          "text": [
            "[32, 30]\n"
          ]
        }
      ]
    },
    {
      "cell_type": "markdown",
      "metadata": {
        "id": "NcyxonXwoqF8"
      },
      "source": [
        "#### **Ejercicio 3**\n",
        "Escribir una función que reciba una frase (string) y devuelva una lista con las longitudes de cada palabra."
      ]
    },
    {
      "cell_type": "code",
      "metadata": {
        "id": "cwtf7KhNoqF9"
      },
      "source": [
        "frase = 'Welcome to Python'"
      ],
      "execution_count": 18,
      "outputs": []
    },
    {
      "cell_type": "code",
      "source": [
        "#Inserta Aquí tu código\n",
        "#hacer list(frase) nos devuelve caracteres. ¿Cómo conseguir palabras?\n",
        "  #Alguna función que detecte los espacios. ¿Cuál? SPLIT, vamos a ver qué tal\n",
        "lista_lens = [] #3º\n",
        "lista_palabras=frase.split(' ') #1º\n",
        "lista_palabras #2º\n",
        "for palabra in lista_palabras:\n",
        "  tamano=len(palabra)\n",
        "\n",
        "  #Corrección incompleta, pero va por aquí la cosa\n"
      ],
      "metadata": {
        "id": "UXy_CRHGpJbo"
      },
      "execution_count": 19,
      "outputs": []
    },
    {
      "cell_type": "markdown",
      "source": [
        "Comprueba tu respuesta, debe dar: [7, 2, 6]"
      ],
      "metadata": {
        "id": "jrUHW6BRo9_6"
      }
    },
    {
      "cell_type": "code",
      "source": [
        "print(length_words('Welcome to Python'))"
      ],
      "metadata": {
        "colab": {
          "base_uri": "https://localhost:8080/",
          "height": 165
        },
        "id": "iRXGbTedpAyA",
        "outputId": "c79e6c64-f6a7-4c1b-a8a0-80807c43565e"
      },
      "execution_count": 20,
      "outputs": [
        {
          "output_type": "error",
          "ename": "NameError",
          "evalue": "ignored",
          "traceback": [
            "\u001b[0;31m---------------------------------------------------------------------------\u001b[0m",
            "\u001b[0;31mNameError\u001b[0m                                 Traceback (most recent call last)",
            "\u001b[0;32m<ipython-input-20-ad88ecece918>\u001b[0m in \u001b[0;36m<cell line: 1>\u001b[0;34m()\u001b[0m\n\u001b[0;32m----> 1\u001b[0;31m \u001b[0mprint\u001b[0m\u001b[0;34m(\u001b[0m\u001b[0mlength_words\u001b[0m\u001b[0;34m(\u001b[0m\u001b[0;34m'Welcome to Python'\u001b[0m\u001b[0;34m)\u001b[0m\u001b[0;34m)\u001b[0m\u001b[0;34m\u001b[0m\u001b[0;34m\u001b[0m\u001b[0m\n\u001b[0m",
            "\u001b[0;31mNameError\u001b[0m: name 'length_words' is not defined"
          ]
        }
      ]
    },
    {
      "cell_type": "markdown",
      "metadata": {
        "id": "Xmq57J_2p7oD"
      },
      "source": [
        "#### **Ejercicio 4**\n",
        "Escribir una función que reciba una lista de números pares e impares y devuelve como resultado una lista solo con los números pares usando filter. Usa también la función dada check_even()."
      ]
    },
    {
      "cell_type": "code",
      "execution_count": null,
      "metadata": {
        "collapsed": true,
        "id": "MWRq86JTJmSS"
      },
      "outputs": [],
      "source": [
        "def check_even(num):\n",
        "    return num % 2 == 0 \n",
        "\n",
        "    #usa esta función, no para que te lo resuelva directamente, pero necesitas usarla"
      ]
    },
    {
      "cell_type": "code",
      "execution_count": null,
      "metadata": {
        "collapsed": true,
        "id": "ZhtI3T3VJmSS"
      },
      "outputs": [],
      "source": [
        "nums = [0,1,2,3,4,5,6,7,8,9,10]"
      ]
    },
    {
      "cell_type": "code",
      "execution_count": null,
      "metadata": {
        "id": "UmOddg-eJmST"
      },
      "outputs": [],
      "source": [
        "#Inserta Aquí tu código\n",
        "\n",
        "def n (nums):\n",
        "return for\n",
        "list(filter((n%2==0),nums))"
      ]
    },
    {
      "cell_type": "code",
      "source": [
        "ciudades =['Madrid','BArcelona']\n",
        "for x in ciudades:\n",
        "  print(ciudades)"
      ],
      "metadata": {
        "id": "g4cjJSgduSqg"
      },
      "execution_count": null,
      "outputs": []
    },
    {
      "cell_type": "code",
      "source": [],
      "metadata": {
        "id": "qhDt3pFHreRJ"
      },
      "execution_count": null,
      "outputs": []
    }
  ]
}